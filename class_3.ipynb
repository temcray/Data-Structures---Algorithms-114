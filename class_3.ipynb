{
 "cells": [
  {
   "cell_type": "markdown",
   "id": "13971f6d",
   "metadata": {},
   "source": [
    "# Class 3 - OOP Basics and DSA(Nodes and Linked List)"
   ]
  },
  {
   "cell_type": "markdown",
   "id": "336261b3",
   "metadata": {},
   "source": [
    "OOP - Object Oriented Programmingpython is an object- orientend language, allowing you to structure your code using classes and objects for better organization and reusabillity.\n",
    "\n",
    "\n",
    "### Advantages: \n",
    "-Provides a clear structure to progmrams\n",
    "\n",
    "-Makes code easier to maintain, reuse and debug\n",
    "\n",
    "-Hepls keep your code Dry do not repeat yourself\n",
    "\n",
    "-Allows to bulid reuseable app. with less code."
   ]
  },
  {
   "cell_type": "markdown",
   "id": "6148c09c",
   "metadata": {},
   "source": [
    "### Class and object ###\n",
    "\n",
    "A class def, what an object should look like and an object is created based on that class.\n",
    "\n",
    "ex: \n",
    "\n",
    "Class -> Fruit\n",
    "Object -> Apple, Bannan, grapes\n",
    "\n",
    "### The four pillar of OOP ###\n",
    "\n",
    "ENCAPSULATION\n",
    "\n",
    "ABSTRACTION\n",
    "\n",
    "INHERITANCE\n",
    "\n",
    "POLYMORPHISM\n",
    "\n"
   ]
  },
  {
   "cell_type": "code",
   "execution_count": null,
   "id": "ae904524",
   "metadata": {},
   "outputs": [
    {
     "name": "stdout",
     "output_type": "stream",
     "text": [
      "5\n"
     ]
    }
   ],
   "source": [
    "# syntax \n",
    "# Resrved keyword 'class' + name of the class\n",
    "# Note: the name of the class should follow the Pascal Case notation\n",
    "\n",
    "# Constructor - is always executed when the  class is being initated\n",
    "class MyClass:\n",
    "    x = 5\n",
    "\n",
    "p1 = MyClass()\n",
    "print(p1.x)"
   ]
  },
  {
   "cell_type": "code",
   "execution_count": null,
   "id": "cc5db2ab",
   "metadata": {},
   "outputs": [
    {
     "name": "stdout",
     "output_type": "stream",
     "text": [
      "Tatiana 36\n",
      "Kelly 44\n",
      "Hello my name is Tatiana\n",
      "Tatiana 36\n"
     ]
    }
   ],
   "source": [
    "class Person:\n",
    "  # Constructor - Executes when intializing an object\n",
    "  def __init__(self, name, age):\n",
    "    self.name = name\n",
    "    self.age = age\n",
    "\n",
    "  def my_func(self):\n",
    "    print(\"Hello my name is \" + self.name)\n",
    "\n",
    "# To string - return the values of the object instead of the memory location\n",
    "  def __str__(self):\n",
    "    return f\"{self.name} {self.age}\"\n",
    "\n",
    "p1 = Person(\"Tatiana\", 36)\n",
    "p2 = Person(\"Kelly\", 44)\n",
    "\n",
    "print(p1)\n",
    "print(p2)\n",
    "\n",
    "p1. my_func()\n",
    "p1.age = 36\n",
    "print(p1)"
   ]
  },
  {
   "cell_type": "markdown",
   "id": "d446d4e9",
   "metadata": {},
   "source": [
    "### Data Structure (DSA) ###\n",
    "\n",
    "DSA is about how data can be stoed in different structures (accessing, seaching, inserting and deleting)\n",
    "\n",
    "Algorithms is about how to solve different problems, often by searchiong though and manipulating data structures\n",
    "\n",
    "### Nodes and SLL (Single Linked-List)\n",
    "\n",
    "Differences between arrays and link-list:\n",
    "\n",
    "1. We don't need to prealllocate space\n",
    "2. Insertionit's easy\n",
    "\n",
    "# Single Linked-List\n",
    "\n",
    "# Node -> [data | link]\n",
    "\n",
    "###\n",
    "   0x00500           0x00A1              0x00C5           0x00D7          0X00c0\n",
    "[209 | 0x00A1] -> [305 | 0x00C5] -> [320 | 0X00d7] -> [301 | 0x00c0] -> [292 | null]\n",
    "###\n",
    "\n",
    "Inserting element 284 at postition 1 \n",
    "\n",
    "0x00500           0x00A1              0x00C5           0x00D7          0X00C0\n",
    "[209 | 0x00A1] -> [305 | 0x00C5] -> [320 | 0X00D7] -> [301 | 0x00C0] -> [292 | null]\n",
    "\n",
    "    0                 1                 2                 3                4    \n",
    "\n",
    "\n",
    "\n",
    "    Insert Element at beginning = 0(1)\n",
    "    Delete Element at beginning = 0(1)\n",
    "    Insert/Delete Element at the end = 0(n)\n",
    "    Linked list Traversal = 0(n)\n",
    "    Accessing Element by value = 0(n)\n",
    "\n",
    "    "
   ]
  },
  {
   "cell_type": "code",
   "execution_count": 1,
   "id": "f608f333",
   "metadata": {},
   "outputs": [
    {
     "name": "stdout",
     "output_type": "stream",
     "text": [
      "[298, 305, 320, 301, 292]\n",
      "[298, 284, 305, 320, 301, 292]\n"
     ]
    }
   ],
   "source": [
    "# ARRAY\n",
    "stock_prices = [298, 305, 320, 301, 292]\n",
    "\n",
    "print(stock_prices)\n",
    "\n",
    "\n",
    "### [298] -> 0x00500 -> 0\n",
    "### [305] -> 0x00504 -> 1\n",
    "### [305] -> 0x00508 -> 2\n",
    "### [320] -> 0x0050A -> 3\n",
    "### [292] -> 0x0050F -> 4\n",
    "\n",
    "\n",
    "stock_prices.insert(1,284)\n",
    "\n",
    "#Insertion = 0(n)\n",
    "### [298] -> 0x00500 \n",
    "### [284] -> ?\n",
    "### [305] -> 0x00504 \n",
    "### [320] -> 0x00508 \n",
    "### [301] -> 0x0050A \n",
    "### [292] -> 0X0050F \n",
    "# [?] -> 0x00514\n",
    "# [?] -> 0x00518\n",
    "# ...\n",
    "# [?] -> 0x00600\n",
    "print(stock_prices)"
   ]
  },
  {
   "cell_type": "code",
   "execution_count": 7,
   "id": "276e96a5",
   "metadata": {},
   "outputs": [
    {
     "name": "stdout",
     "output_type": "stream",
     "text": [
      "20-->298-->3-->None\n",
      "20-->None\n"
     ]
    }
   ],
   "source": [
    "class Node:\n",
    "  def __init__(self,data,next):\n",
    "    self.data = data\n",
    "    self.next = next\n",
    "\n",
    "class LinkedList:\n",
    "  def __init__(self):\n",
    "    self.head = None\n",
    "\n",
    "  def insert_at_beginning(self,data): #0(1)\n",
    "    node = Node(data, self.head)\n",
    "    self.head = node\n",
    "\n",
    "  def insert_at_end(self, data): #0(n)\n",
    "    if self.head is None:\n",
    "      self.head = Node(data, None)\n",
    "      return \"\"\n",
    "    \n",
    "    itr = self.head #itrerate = itr\n",
    "    while itr.next: \n",
    "      itr =itr.next\n",
    "\n",
    "    itr.next = Node(data,None)\n",
    "\n",
    "  def print(self):\n",
    "    if self.head is None:\n",
    "      print(\"Linked List is Empty\")\n",
    "      return \"\"\n",
    "    current = self.head\n",
    "    node_str = \"\"\n",
    "    while current:\n",
    "      node_str += str(current.data) + '-->'\n",
    "      current = current.next\n",
    "    print(node_str + \"None\")\n",
    "\n",
    "  def __str__(self):\n",
    "    if self.head is None:\n",
    "      print(\"Linked List is Empty\")\n",
    "      return \"\"\n",
    "    current = self.head\n",
    "    node_str = \"\"\n",
    "    while current:\n",
    "      node_str += str(current.data) + '-->'\n",
    "      current = current.next\n",
    "      return node_str + \"None\"\n",
    "\n",
    "  def length(self):\n",
    "    count = 0\n",
    "    itr = self.head\n",
    "    while current:\n",
    "      count += 1\n",
    "      current = current.next\n",
    "      return count \n",
    "\n",
    "\n",
    "linked_list = LinkedList()\n",
    "linked_list.insert_at_beginning(298)\n",
    "linked_list.insert_at_beginning(20)\n",
    "linked_list.insert_at_end(3)\n",
    "linked_list.print()\n",
    "\n",
    "print(linked_list)\n",
    "  "
   ]
  }
 ],
 "metadata": {
  "kernelspec": {
   "display_name": "Python 3",
   "language": "python",
   "name": "python3"
  },
  "language_info": {
   "codemirror_mode": {
    "name": "ipython",
    "version": 3
   },
   "file_extension": ".py",
   "mimetype": "text/x-python",
   "name": "python",
   "nbconvert_exporter": "python",
   "pygments_lexer": "ipython3",
   "version": "3.13.5"
  }
 },
 "nbformat": 4,
 "nbformat_minor": 5
}
