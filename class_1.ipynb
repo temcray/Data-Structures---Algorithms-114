{
 "cells": [
  {
   "cell_type": "code",
   "execution_count": 7,
   "id": "ab1c50cc",
   "metadata": {},
   "outputs": [
    {
     "name": "stdout",
     "output_type": "stream",
     "text": [
      "10\n",
      "11\n"
     ]
    }
   ],
   "source": [
    "def sum(x,y):\n",
    "  return x + y\n",
    "print(sum(5,5))\n",
    "\n",
    "x = 5\n",
    "y = 6\n",
    "print(x + y)\n"
   ]
  },
  {
   "cell_type": "code",
   "execution_count": null,
   "id": "c30c6b28",
   "metadata": {},
   "outputs": [
    {
     "name": "stdout",
     "output_type": "stream",
     "text": [
      "0\n",
      "0\n"
     ]
    }
   ],
   "source": [
    "def sum(a,b):\n",
    "  return a % b\n",
    "print(sum(15,5))\n",
    "\n",
    "a = 15\n",
    "b = 5\n",
    "print(a % b)"
   ]
  },
  {
   "cell_type": "code",
   "execution_count": 3,
   "id": "ff04e5ef",
   "metadata": {},
   "outputs": [
    {
     "name": "stdout",
     "output_type": "stream",
     "text": [
      "8\n",
      "8\n"
     ]
    }
   ],
   "source": [
    "def sum(g,h):\n",
    "  return g - h\n",
    "print(sum(20,12))\n",
    "\n",
    "g = 20\n",
    "h = 12\n",
    "print(g - h)"
   ]
  },
  {
   "cell_type": "markdown",
   "id": "15e591b7",
   "metadata": {},
   "source": [
    "             A.A.A\n",
    "-Assessment: We want to ask meaningful questions with the purpose of clarifying incorrect assumptions, edge cases we might have missed and specific criteria we do not know up front. \n",
    "-Assembly: We want design a solution by defined data structures, selecting or defining an algorithm and trying to solve the problem as optimally as possible. \n",
    "-Action: Code."
   ]
  },
  {
   "cell_type": "markdown",
   "id": "11db12bf",
   "metadata": {},
   "source": [
    "Find the total of numbers from Collection that divided by 2 the module is 0\n",
    "Examples:\n",
    "1. Given [3,4,10,15,999,2] Then the ouput should be: total=3\n",
    "2. Given [2,4,6,10,3.7] Then the output should be: total=4\n",
    "\n",
    "Criteria\n",
    "1. Create a function that receives a collection and return an integer with the total\n",
    "Hint\n",
    "- '%' is the mathemic operand to get the module from a division.\n",
    "- 2 % 2 = 0\n",
    "\n",
    "The collection is numbers = [3,5,27,20,6,3.5,60]"
   ]
  },
  {
   "cell_type": "code",
   "execution_count": null,
   "id": "6c344e95",
   "metadata": {
    "vscode": {
     "languageId": "javascript"
    }
   },
   "outputs": [],
   "source": [
    "let numbers = [3,5,27,20,6,3,5,60]"
   ]
  },
  {
   "cell_type": "code",
   "execution_count": null,
   "id": "fd63167c",
   "metadata": {},
   "outputs": [
    {
     "name": "stdout",
     "output_type": "stream",
     "text": [
      "Hey T what's up\n"
     ]
    }
   ],
   "source": [
    "#-114 -CLASS 1\n",
    "\n",
    "Subtitle = \"English\"\n",
    "\n",
    "title = \"Life is but a dream\"\n",
    "\n",
    "print(\"Hey T what's up\")"
   ]
  },
  {
   "cell_type": "markdown",
   "id": "30cfb90e",
   "metadata": {},
   "source": [
    "# Problem 1\n",
    "\n",
    "### Find the total of number from a collection of numbers that divided by 2 the module is 0\n",
    "\n",
    "\n",
    "Examples: \n",
    "1. Given [3,4,10,15,999,2] Then the output should be: total = 3\n",
    "2. Given [2,4,6,10,3,7] Then the output should be: totle = 4\n",
    "\n",
    "### Criteria\n",
    "1. Create a function that receives a collection and retrun an integer with the total\n",
    "\n",
    "### Hint\n",
    "-'%' is the arithmetic operand to get the module from a divison\n",
    "-2 % 2 = 0\n",
    "\n",
    "The collection of numbers is: numbers = [3,] \n",
    "\n"
   ]
  }
 ],
 "metadata": {
  "kernelspec": {
   "display_name": "Python 3",
   "language": "python",
   "name": "python3"
  },
  "language_info": {
   "codemirror_mode": {
    "name": "ipython",
    "version": 3
   },
   "file_extension": ".py",
   "mimetype": "text/x-python",
   "name": "python",
   "nbconvert_exporter": "python",
   "pygments_lexer": "ipython3",
   "version": "3.13.5"
  }
 },
 "nbformat": 4,
 "nbformat_minor": 5
}
