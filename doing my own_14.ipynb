{
 "cells": [
  {
   "cell_type": "code",
   "execution_count": 1,
   "id": "4c283f3a",
   "metadata": {},
   "outputs": [
    {
     "name": "stdout",
     "output_type": "stream",
     "text": [
      "[1, 2, 3]\n",
      "[1, 2, 3]\n",
      "[1, 2, 3]\n"
     ]
    }
   ],
   "source": [
    "x= [1,2,3]\n",
    "for item in (x):  \n",
    "  print(x)"
   ]
  },
  {
   "cell_type": "code",
   "execution_count": 3,
   "id": "799f06b2",
   "metadata": {},
   "outputs": [
    {
     "name": "stdout",
     "output_type": "stream",
     "text": [
      "[3, 4, 5, 1]\n",
      "[3, 4, 5, 1]\n",
      "[3, 4, 5, 1]\n",
      "[3, 4, 5, 1]\n"
     ]
    }
   ],
   "source": [
    "j = [3,4,5,1]\n",
    "for item in (j):\n",
    "  print(j)"
   ]
  },
  {
   "cell_type": "code",
   "execution_count": 2,
   "id": "7b4c4a31",
   "metadata": {},
   "outputs": [
    {
     "name": "stdout",
     "output_type": "stream",
     "text": [
      "Kelandria\n",
      "Tenitra\n",
      "Beyonce\n"
     ]
    }
   ],
   "source": [
    "member = [\"Kelandria\", \"Tenitra\", \"Beyonce\"]\n",
    "for member in (member):\n",
    "  print(member)"
   ]
  }
 ],
 "metadata": {
  "kernelspec": {
   "display_name": "Python 3",
   "language": "python",
   "name": "python3"
  },
  "language_info": {
   "codemirror_mode": {
    "name": "ipython",
    "version": 3
   },
   "file_extension": ".py",
   "mimetype": "text/x-python",
   "name": "python",
   "nbconvert_exporter": "python",
   "pygments_lexer": "ipython3",
   "version": "3.13.5"
  }
 },
 "nbformat": 4,
 "nbformat_minor": 5
}
