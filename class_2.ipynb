{
 "cells": [
  {
   "cell_type": "markdown",
   "id": "14821cb1",
   "metadata": {},
   "source": [
    "Class2- More problems,Big O Notation and introduction to DSA"
   ]
  },
  {
   "cell_type": "markdown",
   "id": "3ee7aca7",
   "metadata": {},
   "source": [
    "# Problem 1 #\n",
    "### Anagram Cheack ###\n",
    "\n",
    "Create a funtion that take two strings as parmeters and return True if they are anagram of each other, false otherwise. \n",
    "\n",
    "Ex:\n",
    "1. heart and earth\n",
    "2. scar and cars\n",
    "3. star and rats\n",
    "\n",
    "\n",
    "### Criteria ###\n",
    "Two strings are anagrms of each other if and only if all the criteria below are met:\n",
    "1. They must use all the same characters\n",
    "2. They must be of exactly the same lenght (in characters)"
   ]
  },
  {
   "cell_type": "code",
   "execution_count": null,
   "id": "d53c8c4c",
   "metadata": {},
   "outputs": [
    {
     "data": {
      "text/plain": [
       "True"
      ]
     },
     "execution_count": 17,
     "metadata": {},
     "output_type": "execute_result"
    }
   ],
   "source": [
    "def check_anagrams(w1, w2): #0(1)\n",
    "  w1 = w1.replace(\"\",\"\"). lower() #0(1)\n",
    "  w2 = w2.replace(\"\",\"\"). lower() #0(1)\n",
    "  dict1 = {} #0(1)\n",
    "  dict2 = {} #0(1)\n",
    "\n",
    "  if len(w1) == len(w2): #0(1)\n",
    "    for letter in w1: #0(1)\n",
    "      if dict1.get(letter) == None: #0(1)\n",
    "          dict1[letter] = 1 #0(1)\n",
    "      else:\n",
    "          dict1[letter] += 1\n",
    "    for letter in w2:\n",
    "      if dict2.get(letter) == None:\n",
    "          dict2[letter] = 1\n",
    "      else:\n",
    "        dict2[letter] += 1\n",
    "    return dict1 == dict2 #0(1)\n",
    "\n",
    "  else:    \n",
    "      return False\n",
    "  \n",
    "check_anagrams(\"rats\",\"star\") #0(1)\n",
    "\n",
    "#0(2n + 1) => 0(n)"
   ]
  },
  {
   "cell_type": "code",
   "execution_count": 32,
   "id": "1481e174",
   "metadata": {},
   "outputs": [
    {
     "name": "stdout",
     "output_type": "stream",
     "text": [
      "True\n"
     ]
    }
   ],
   "source": [
    "number = 16\n",
    "\n",
    "if number == 2 * 8:\n",
    "  print(\"True\")\n",
    "else:\n",
    "  print(\"False\")"
   ]
  },
  {
   "cell_type": "code",
   "execution_count": 33,
   "id": "c52a7ff6",
   "metadata": {},
   "outputs": [
    {
     "name": "stdout",
     "output_type": "stream",
     "text": [
      "{'human': 'women', 'girl': 'child'}\n"
     ]
    }
   ],
   "source": [
    "female = {\n",
    "  \"human\": \"women\",\n",
    "  \"girl\": \"child\"\n",
    "}\n",
    "\n",
    "print(female)"
   ]
  },
  {
   "cell_type": "code",
   "execution_count": 37,
   "id": "ccb434a9",
   "metadata": {},
   "outputs": [
    {
     "name": "stdout",
     "output_type": "stream",
     "text": [
      "number_latter\n"
     ]
    },
    {
     "data": {
      "text/plain": [
       "True"
      ]
     },
     "execution_count": 37,
     "metadata": {},
     "output_type": "execute_result"
    }
   ],
   "source": [
    "def word(female):\n",
    "  result = True\n",
    "  if len(female):\n",
    "    print(\"number_latter\")\n",
    "  else:\n",
    "    result = False\n",
    "  return result\n",
    "word(\"female\")"
   ]
  },
  {
   "cell_type": "code",
   "execution_count": 35,
   "id": "3ad654fd",
   "metadata": {},
   "outputs": [
    {
     "name": "stdout",
     "output_type": "stream",
     "text": [
      "logic\n"
     ]
    },
    {
     "data": {
      "text/plain": [
       "True"
      ]
     },
     "execution_count": 35,
     "metadata": {},
     "output_type": "execute_result"
    }
   ],
   "source": [
    "def two_strings(heart, earth):\n",
    "  rest = True\n",
    "  if len(heart) == len(earth):\n",
    "   #logic\n",
    "   print(\"logic\")\n",
    "  else: \n",
    "    rest = False\n",
    "  \n",
    "  return rest\n",
    "two_strings('star', 'rats')"
   ]
  }
 ],
 "metadata": {
  "kernelspec": {
   "display_name": "Python 3",
   "language": "python",
   "name": "python3"
  },
  "language_info": {
   "codemirror_mode": {
    "name": "ipython",
    "version": 3
   },
   "file_extension": ".py",
   "mimetype": "text/x-python",
   "name": "python",
   "nbconvert_exporter": "python",
   "pygments_lexer": "ipython3",
   "version": "3.13.5"
  }
 },
 "nbformat": 4,
 "nbformat_minor": 5
}
